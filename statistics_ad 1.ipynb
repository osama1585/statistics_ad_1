{
 "cells": [
  {
   "cell_type": "markdown",
   "id": "ad3a998d-5651-48f5-9556-0c9a8fc981df",
   "metadata": {},
   "source": [
    "<span style=color:red;font-size:50px>ASSIGNMENT</span> "
   ]
  },
  {
   "cell_type": "markdown",
   "id": "799a6c7b-ee8b-4f9a-b63d-0740a05528af",
   "metadata": {},
   "source": [
    "<span style=color:blue;font-size:45px>STATISTICS ADVANCE-1</span>"
   ]
  },
  {
   "cell_type": "markdown",
   "id": "725ebc0a-4fe4-4cb3-9263-d3061729b613",
   "metadata": {},
   "source": [
    "<span style=color:green>Q1. What is the Probability density function?</span>"
   ]
  },
  {
   "cell_type": "markdown",
   "id": "cbc0ed95-ce08-4a21-a2f6-8b51fbcbed7c",
   "metadata": {},
   "source": [
    "Ans-"
   ]
  },
  {
   "cell_type": "markdown",
   "id": "6c712877-0ea1-4404-ad8b-4854f3c5230e",
   "metadata": {},
   "source": [
    "The Probability Density Function (PDF) is a concept in probability theory and statistics. It describes the likelihood of a continuous random variable falling within a particular range of values. For a continuous random variable, the probability of any specific value is infinitesimally small, so we instead describe the probability of the variable falling within a range."
   ]
  },
  {
   "cell_type": "markdown",
   "id": "389f5ced-f83c-4654-a372-0d8216307345",
   "metadata": {},
   "source": [
    "***Probability Density Function Formula:-***"
   ]
  },
  {
   "cell_type": "markdown",
   "id": "a84828a8-641f-4022-b582-ceaaab93c14e",
   "metadata": {},
   "source": [
    "In the case of a continuous random variable, the probability taken by X on some given value x is always 0. In this case, if we find P(X = x), it does not work. Instead of this, we must calculate the probability of X lying in an interval (a, b). Now, we have to figure it for P(a< X< b), and we can calculate this using the formula of PDF. The Probability density function formula is given as,"
   ]
  },
  {
   "cell_type": "markdown",
   "id": "2f4b7793-0194-4dda-b045-a72f8ab6b7ea",
   "metadata": {},
   "source": [
    "Pr(a<X≤b)=∫baf(x)dx=[F(x)]ba."
   ]
  },
  {
   "cell_type": "markdown",
   "id": "b74dd4ec-0cea-4c89-8eae-1b8150bf463a",
   "metadata": {},
   "source": [
    "<span style=color:green>Q2. What are the types of Probability distribution?</span>"
   ]
  },
  {
   "cell_type": "markdown",
   "id": "d7886dc3-bd7c-42f2-afa0-430d34646695",
   "metadata": {},
   "source": [
    "Ans-"
   ]
  },
  {
   "cell_type": "markdown",
   "id": "d3afab40-75d8-447b-8a0b-bd9a631b3821",
   "metadata": {},
   "source": [
    "\n",
    "There are several types of probability distributions, each describing how the probabilities are distributed over different possible outcomes. The two main categories of probability distributions are discrete and continuous."
   ]
  },
  {
   "cell_type": "markdown",
   "id": "6831f3d6-d205-4b1e-b306-29b5437aabda",
   "metadata": {},
   "source": [
    "***1. Discrete Probability Distributions:***"
   ]
  },
  {
   "cell_type": "markdown",
   "id": "3c6b4fff-63ed-4253-b9a3-59db704eb0b7",
   "metadata": {},
   "source": [
    "***a. Bernoulli Distribution:*** Describes a random experiment with two possible outcomes, often labeled as success and failure.\n",
    "\n",
    "***b. Binomial Distribution:*** Represents the number of successes in a fixed number of independent Bernoulli trials.\n",
    "\n",
    "***c. Poisson Distribution:*** Models the number of events occurring in a fixed interval of time or space.\n",
    "\n",
    "***d. Geometric Distribution:*** Models the number of trials needed to achieve the first success in a sequence of independent Bernoulli trials.\n",
    "\n",
    "***e. Hypergeometric Distribution:*** Describes the number of successes in a sample drawn without replacement from a finite population."
   ]
  },
  {
   "cell_type": "markdown",
   "id": "63519164-5886-4eb3-a3d1-3aa4a37b34eb",
   "metadata": {},
   "source": [
    "\n",
    "***2. Continuous Probability Distributions:***\n",
    "\n",
    "***a. Uniform Distribution:*** All outcomes in the sample space are equally likely.\n",
    "\n",
    "***b. Normal (Gaussian) Distribution:*** A symmetric bell-shaped curve that is fully characterized by its mean and standard deviation.\n",
    "\n",
    "***c. Exponential Distribution:*** Models the time between events in a Poisson process, where events occur continuously and independently at a constant average rate.\n",
    "\n",
    "***d. Chi-Square Distribution:*** Arises in the context of hypothesis testing and is related to the normal distribution.\n",
    "\n",
    "***e. Gamma Distribution:*** Generalizes the exponential distribution and is used in various statistical models.\n",
    "\n",
    "***f. Beta Distribution:*** Represents a family of continuous probability distributions defined on the interval [0, 1]; it is often used as a prior distribution in Bayesian statistics.\n",
    "\n",
    "***g. Cauchy Distribution:*** Has heavy tails and no defined mean or variance; it is symmetric and often used in physics and engineering.\n",
    "\n",
    "These distributions are fundamental in probability theory and statistics, providing a framework for modeling and analyzing various types of random phenomena."
   ]
  },
  {
   "cell_type": "markdown",
   "id": "0411edcf-af4a-462f-8565-4864f6c83b88",
   "metadata": {},
   "source": [
    "<span style=color:green>Q3. Write a Python function to calculate the probability density function of a normal distribution with\n",
    "given mean and standard deviation at a given point.</span>"
   ]
  },
  {
   "cell_type": "markdown",
   "id": "98bc03cf-5a90-4b26-9c42-27e7f6cd081a",
   "metadata": {},
   "source": [
    "Ans-"
   ]
  },
  {
   "cell_type": "code",
   "execution_count": 2,
   "id": "b399b17b-282b-4edc-954a-bebd63d812eb",
   "metadata": {},
   "outputs": [
    {
     "name": "stdout",
     "output_type": "stream",
     "text": [
      "The PDF at x=1 is: 0.24197072451914337\n"
     ]
    }
   ],
   "source": [
    "import math\n",
    "\n",
    "def normal_pdf(x, mean, std_dev):\n",
    "    \"\"\"\n",
    "    Calculate the probability density function (PDF) of a normal distribution at a given point.\n",
    "\n",
    "    Parameters:\n",
    "    - x: The point at which to evaluate the PDF.\n",
    "    - mean: The mean (μ) of the normal distribution.\n",
    "    - std_dev: The standard deviation (σ) of the normal distribution.\n",
    "\n",
    "    Returns:\n",
    "    The PDF value at the given point.\n",
    "    \"\"\"\n",
    "    coefficient = 1 / (std_dev * math.sqrt(2 * math.pi))\n",
    "    exponent = -0.5 * ((x - mean) / std_dev)**2\n",
    "    pdf_value = coefficient * math.exp(exponent)\n",
    "    return pdf_value\n",
    "\n",
    "# Example usage:\n",
    "mean_value = 0  # Replace with your desired mean\n",
    "std_dev_value = 1  # Replace with your desired standard deviation\n",
    "point_to_evaluate = 1  # Replace with the point at which you want to calculate the PDF\n",
    "\n",
    "pdf_at_point = normal_pdf(point_to_evaluate, mean_value, std_dev_value)\n",
    "print(f\"The PDF at x={point_to_evaluate} is: {pdf_at_point}\")\n"
   ]
  },
  {
   "cell_type": "markdown",
   "id": "89df8386-511b-4b05-8183-baf1a77760ae",
   "metadata": {},
   "source": [
    "<span style=color:green>Q4. What are the properties of Binomial distribution? Give two examples of events where binomial\n",
    "distribution can be applied.</span>"
   ]
  },
  {
   "cell_type": "markdown",
   "id": "d1297e25-dab9-4256-bb6b-f15504f2f3d2",
   "metadata": {},
   "source": [
    "Ans-"
   ]
  },
  {
   "cell_type": "markdown",
   "id": "4bfdd38a-8cb9-419c-8dab-010843f9199f",
   "metadata": {},
   "source": [
    "The Binomial distribution is a discrete probability distribution that models the number of successes in a fixed number of independent and identically distributed Bernoulli trials, where each trial has two possible outcomes (usually labeled as success and failure). The properties of the Binomial distribution include:"
   ]
  },
  {
   "cell_type": "markdown",
   "id": "20ebda99-c875-48d2-a16f-d72bf2e66b9c",
   "metadata": {},
   "source": [
    "\n",
    "\n",
    "\n",
    "***Number of Trials (n):*** The distribution is defined for a fixed number of trials, denoted as \n",
    "�\n",
    "n.\n",
    "\n",
    "***Probability of Success (p):*** Each trial has a constant probability of success, denoted as \n",
    "�\n",
    "p.\n",
    "\n",
    "***Independence:*** The trials are assumed to be independent of each other.\n",
    "\n",
    "***Two Possible Outcomes:*** Each trial has two possible outcomes: success (usually coded as 1) or failure (coded as 0).\n",
    "\n",
    "***Discreteness:*** The random variable representing the number of successes takes on discrete values from 0 to \n",
    "�\n",
    "n.\n"
   ]
  },
  {
   "cell_type": "markdown",
   "id": "9527239c-66bc-4dbd-a0c1-92696fd5d91e",
   "metadata": {},
   "source": [
    "<span style=color:green>Q5. Generate a random sample of size 1000 from a binomial distribution with probability of success 0.4\n",
    "and plot a histogram of the results using matplotlib.</span>"
   ]
  },
  {
   "cell_type": "markdown",
   "id": "4310e8f7-944d-4221-991d-c9fe3d89aee8",
   "metadata": {},
   "source": [
    "Ans-"
   ]
  },
  {
   "cell_type": "code",
   "execution_count": 3,
   "id": "75669fb7-68a3-4323-a257-c2807fe4ef4a",
   "metadata": {},
   "outputs": [
    {
     "data": {
      "image/png": "[encoded data removed]",
      "text/plain": [
       "<Figure size 640x480 with 1 Axes>"
      ]
     },
     "metadata": {},
     "output_type": "display_data"
    }
   ],
   "source": [
    "import numpy as np\n",
    "import matplotlib.pyplot as plt\n",
    "\n",
    "\n",
    "np.random.seed(42)\n",
    "\n",
    "\n",
    "n_trials = 1000\n",
    "probability_of_success = 0.4\n",
    "\n",
    "\n",
    "random_sample = np.random.binomial(n=1, p=probability_of_success, size=n_trials)\n",
    "\n",
    "# Plot the histogram\n",
    "plt.hist(random_sample, bins=[-0.5, 0.5, 1.5], edgecolor='black', alpha=0.7)\n",
    "plt.xlabel('Number of Successes')\n",
    "plt.ylabel('Frequency')\n",
    "plt.title(f'Binomial Distribution (n={n_trials}, p={probability_of_success})')\n",
    "plt.xticks([0, 1], ['Failure', 'Success'])\n",
    "plt.grid(axis='y', linestyle='--', alpha=0.7)\n",
    "\n",
    "# Show the plot\n",
    "plt.show()\n"
   ]
  },
  {
   "cell_type": "markdown",
   "id": "da530051-69b5-44a0-af5f-3d1693aab9ee",
   "metadata": {},
   "source": [
    "<span style=color:green>Q6. Write a Python function to calculate the cumulative distribution function of a Poisson distribution\n",
    "with given mean at a given point.</span>"
   ]
  },
  {
   "cell_type": "markdown",
   "id": "6ddf7969-d594-4c34-b2a1-0f3861cceef1",
   "metadata": {},
   "source": [
    "Ans-"
   ]
  },
  {
   "cell_type": "code",
   "execution_count": 4,
   "id": "d69d5e56-1bf2-484c-9ead-131b7e31a586",
   "metadata": {},
   "outputs": [
    {
     "name": "stdout",
     "output_type": "stream",
     "text": [
      "The CDF at k=3 is: 0.7575761331330659\n"
     ]
    }
   ],
   "source": [
    "import math\n",
    "\n",
    "def poisson_cdf(k, mean):\n",
    "    \"\"\"\n",
    "    Calculate the Cumulative Distribution Function (CDF) of a Poisson distribution at a given point.\n",
    "\n",
    "    Parameters:\n",
    "    - k: The point at which to evaluate the CDF.\n",
    "    - mean: The mean (\\lambda) of the Poisson distribution.\n",
    "\n",
    "    Returns:\n",
    "    The CDF value at the given point.\n",
    "    \"\"\"\n",
    "    cdf_value = 0.0\n",
    "    for i in range(k + 1):\n",
    "        cdf_value += math.exp(-mean) * (mean ** i) / math.factorial(i)\n",
    "    return cdf_value\n",
    "\n",
    "\n",
    "mean_value = 2.5  \n",
    "point_to_evaluate = 3  \n",
    "\n",
    "cdf_at_point = poisson_cdf(point_to_evaluate, mean_value)\n",
    "print(f\"The CDF at k={point_to_evaluate} is: {cdf_at_point}\")\n"
   ]
  },
  {
   "cell_type": "markdown",
   "id": "650f6c3e-8613-429d-871e-1eb5b13cf2f7",
   "metadata": {},
   "source": [
    "<span style=color:green>Q7. How Binomial distribution different from Poisson distribution?</span>"
   ]
  },
  {
   "cell_type": "markdown",
   "id": "c5612654-247e-4bd3-8f94-3a06f41a179a",
   "metadata": {},
   "source": [
    "Ans-"
   ]
  },
  {
   "cell_type": "markdown",
   "id": "41e1c880-5795-4f1f-8b04-88367e53453f",
   "metadata": {},
   "source": [
    "\n",
    "The Binomial distribution and the Poisson distribution are both probability distributions used to model the number of successes in a fixed number of trials, but they are applied in different contexts and have distinct characteristics. Here are the key differences between the Binomial and Poisson distributions:\n",
    "\n",
    "***1. Number of Trials:***\n",
    "\n",
    "***Binomial Distribution:*** The number of trials (\n",
    "\n",
    "n) is fixed and known in advance.\n",
    "***Poisson Distribution:*** The number of trials is not fixed; it is typically used to model events that happen over a continuous interval of time or space.\n",
    "***2. Nature of Outcomes:***\n",
    "\n",
    "***Binomial Distribution:*** Each trial has two possible outcomes (success and failure).\n",
    "***Poisson Distribution:*** It models the number of events occurring in a fixed interval, and each event is considered a success.\n",
    "\n",
    "***3. Probability of Success:***\n",
    "\n",
    "***Binomial Distribution:*** The probability of success (p) is constant across all trials.\n",
    "***Poisson Distribution:*** The rate parameter (λ) represents the average number of events in the given interval.\n",
    "\n",
    "***4. Continuity:***\n",
    "\n",
    "***Binomial Distribution:*** Discrete probability distribution.\n",
    "***Poisson Distribution:*** Often used for modeling events in continuous time or space; it is also a discrete distribution but is applied to situations where the number of events is large and the probability of an event occurring in a small interval is small.\n",
    "\n",
    "***5. Conditions of Application:***\n",
    "\n",
    "***Binomial Distribution:*** Appropriate when there is a fixed number of independent trials, each with the same probability of success.\n",
    "***Poisson Distribution:*** Appropriate when events are rare and random, and the average rate of occurrence is constant.\n",
    "***6. Relationship:***\n",
    "\n",
    "In certain cases, as the number of trials (n) in a Binomial distribution becomes large, with a small probability of success (p), the distribution approaches a Poisson distribution. This is known as a Poisson approximation to the Binomial distribution.\n",
    "In summary, the choice between the Binomial and Poisson distributions depends on the nature of the data and the specific characteristics of the random process being modeled. The Binomial distribution is suitable for a fixed number of trials with constant probability of success, while the Poisson distribution is often used for modeling the number of rare events in continuous time or space."
   ]
  },
  {
   "cell_type": "markdown",
   "id": "4a4ae45e-2156-4237-860d-0f5b75ee3b36",
   "metadata": {},
   "source": [
    "<span style=color:green>Q8. Generate a random sample of size 1000 from a Poisson distribution with mean 5 and calculate the\n",
    "sample mean and variance.</span>"
   ]
  },
  {
   "cell_type": "markdown",
   "id": "85b119c4-b98c-406b-85e7-5c13a2b8b732",
   "metadata": {},
   "source": [
    "Ans-"
   ]
  },
  {
   "cell_type": "code",
   "execution_count": 1,
   "id": "bf0b7dec-acdb-4f4f-89f7-225c1b8baa47",
   "metadata": {},
   "outputs": [
    {
     "name": "stdout",
     "output_type": "stream",
     "text": [
      "Sample Mean: 4.985\n",
      "Sample Variance: 4.9967749999999995\n"
     ]
    }
   ],
   "source": [
    "import numpy as np\n",
    "\n",
    "# Set the seed for reproducibility\n",
    "np.random.seed(42)\n",
    "\n",
    "# Parameters for the Poisson distribution\n",
    "mean_value = 5\n",
    "sample_size = 1000\n",
    "\n",
    "# Generate a random sample from the Poisson distribution\n",
    "poisson_sample = np.random.poisson(lam=mean_value, size=sample_size)\n",
    "\n",
    "# Calculate the sample mean and variance\n",
    "sample_mean = np.mean(poisson_sample)\n",
    "sample_variance = np.var(poisson_sample)\n",
    "\n",
    "# Print the results\n",
    "print(f\"Sample Mean: {sample_mean}\")\n",
    "print(f\"Sample Variance: {sample_variance}\")\n"
   ]
  },
  {
   "cell_type": "markdown",
   "id": "db16d5f5-969b-40b6-9253-cdf93be686c5",
   "metadata": {},
   "source": [
    "<span style=color:green>Q9. How mean and variance are related in Binomial distribution and Poisson distribution?</span>"
   ]
  },
  {
   "cell_type": "markdown",
   "id": "ab043b6a-fdfd-4f67-bfdc-2acf2fd99d84",
   "metadata": {},
   "source": [
    "Ans-"
   ]
  },
  {
   "cell_type": "markdown",
   "id": "d1f3353b-2959-49d3-9a78-99845255a9f3",
   "metadata": {},
   "source": [
    "Mean and Variance of the Poisson Distribution\n",
    "We already know that the mean of the Poisson distribution is m. This also happens to be the variance of the Poisson. Thus we can characterize the distribution as P(m,m) = P(3,3).\n",
    "\n",
    "An important feature of the Poisson distribution is that the variance increases as the mean increases. In many situations this makes considerable sense. If the mean for harassment calls is 3, we can reasonably expect the daily frequencies to fall between about 0 and 6. On the other hand, if the mean were 20, we would probably expect the daily frequencies might fall anywhere between 12 and 30. Obviously the variance will be larger in the second case. \n",
    "\n",
    "You are probably most familiar with the normal distribution, because it underlies most of the standard statistical procedures that we use. For the normal distribution the mean and variance are independent, and there we would not expect the variance to increase as the mean does."
   ]
  },
  {
   "cell_type": "markdown",
   "id": "77650033-4e8e-4c4e-ba46-d4df1bfbdc74",
   "metadata": {},
   "source": [
    "<span style=color:green>Q10. In normal distribution with respect to mean position, where does the least frequent data appear?</span>"
   ]
  },
  {
   "cell_type": "markdown",
   "id": "f842440f-ae6b-4d1f-91d5-a3042177d90b",
   "metadata": {},
   "source": [
    "Ans-"
   ]
  },
  {
   "cell_type": "markdown",
   "id": "fa84e6e0-9e72-4ac7-964b-20fd8b55f0a1",
   "metadata": {},
   "source": [
    "The normal distribution is characterized by its mean (μ) and standard deviation (σ). The majority of the data falls within one, two, or three standard deviations of the mean in a symmetric pattern. The tails of the distribution, located farther from the mean, contain fewer data points, and extreme values become increasingly rare as you move away from the mean.\n",
    "\n",
    "In a standard normal distribution (where the mean is 0 and the standard deviation is 1), about 68% of the data falls within one standard deviation of the mean, about 95% within two standard deviations, and about 99.7% within three standard deviations. Therefore, data points in the tails, beyond three standard deviations from the mean, are the least frequent and represent extreme values in the distribution."
   ]
  },
  {
   "cell_type": "code",
   "execution_count": null,
   "id": "48141c61-c7e2-4b77-818f-0a827a851004",
   "metadata": {},
   "outputs": [],
   "source": []
  }
 ],
 "metadata": {
  "kernelspec": {
   "display_name": "Python 3 (ipykernel)",
   "language": "python",
   "name": "python3"
  },
  "language_info": {
   "codemirror_mode": {
    "name": "ipython",
    "version": 3
   },
   "file_extension": ".py",
   "mimetype": "text/x-python",
   "name": "python",
   "nbconvert_exporter": "python",
   "pygments_lexer": "ipython3",
   "version": "3.10.8"
  }
 },
 "nbformat": 4,
 "nbformat_minor": 5
}
